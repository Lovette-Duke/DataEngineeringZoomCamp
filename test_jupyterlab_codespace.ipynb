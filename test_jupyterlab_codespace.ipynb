{
 "cells": [
  {
   "cell_type": "code",
   "execution_count": 1,
   "id": "93ac8123-08e6-4489-b420-60373972d656",
   "metadata": {},
   "outputs": [],
   "source": [
    "import pandas as pd"
   ]
  },
  {
   "cell_type": "code",
   "execution_count": 2,
   "id": "97638e2f-6b50-4a24-9964-472e36ebff34",
   "metadata": {},
   "outputs": [
    {
     "name": "stdout",
     "output_type": "stream",
     "text": [
      "Hello Codespace, Nice to meet you\n"
     ]
    }
   ],
   "source": [
    "print(\"Hello Codespace, Nice to meet you\")"
   ]
  },
  {
   "cell_type": "code",
   "execution_count": 3,
   "id": "c6a30d71-6e7f-40d6-80cd-f19d97d76f61",
   "metadata": {},
   "outputs": [
    {
     "name": "stdout",
     "output_type": "stream",
     "text": [
      "I messed up my git commit and push\n"
     ]
    }
   ],
   "source": [
    "print(\"I messed up my git commit and push\")"
   ]
  },
  {
   "cell_type": "code",
   "execution_count": null,
   "id": "221193a4-a215-455c-82ff-878a7f190067",
   "metadata": {},
   "outputs": [],
   "source": []
  }
 ],
 "metadata": {
  "kernelspec": {
   "display_name": "Python [conda env:base] *",
   "language": "python",
   "name": "conda-base-py"
  },
  "language_info": {
   "codemirror_mode": {
    "name": "ipython",
    "version": 3
   },
   "file_extension": ".py",
   "mimetype": "text/x-python",
   "name": "python",
   "nbconvert_exporter": "python",
   "pygments_lexer": "ipython3",
   "version": "3.12.7"
  }
 },
 "nbformat": 4,
 "nbformat_minor": 5
}
